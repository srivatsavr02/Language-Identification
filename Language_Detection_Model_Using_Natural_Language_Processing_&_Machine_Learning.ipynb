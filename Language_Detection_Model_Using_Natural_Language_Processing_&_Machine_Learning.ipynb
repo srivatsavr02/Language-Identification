{
  "nbformat": 4,
  "nbformat_minor": 0,
  "metadata": {
    "kernelspec": {
      "display_name": "Python 3",
      "language": "python",
      "name": "python3"
    },
    "language_info": {
      "codemirror_mode": {
        "name": "ipython",
        "version": 3
      },
      "file_extension": ".py",
      "mimetype": "text/x-python",
      "name": "python",
      "nbconvert_exporter": "python",
      "pygments_lexer": "ipython3",
      "version": "3.7.3"
    },
    "colab": {
      "name": "Language Detection Model Using Natural Language Processing & Machine Learning.ipynb",
      "provenance": [],
      "collapsed_sections": [
        "3BoI5UVUndoZ",
        "D_3HVfxQndom",
        "uHTXpcUwndop",
        "0kLNScrnndoq"
      ]
    }
  },
  "cells": [
    {
      "cell_type": "code",
      "metadata": {
        "colab": {
          "base_uri": "https://localhost:8080/"
        },
        "id": "XJno4_-AALYN",
        "outputId": "2c4579fb-53ac-40ae-be3a-87c02e34a5fc"
      },
      "source": [
        "from google.colab import drive\n",
        "drive.mount('/content/drive')"
      ],
      "execution_count": null,
      "outputs": [
        {
          "output_type": "stream",
          "name": "stdout",
          "text": [
            "Mounted at /content/drive\n"
          ]
        }
      ]
    },
    {
      "cell_type": "markdown",
      "metadata": {
        "id": "3BoI5UVUndoZ"
      },
      "source": [
        "### 1. Importing all the essential libraries"
      ]
    },
    {
      "cell_type": "code",
      "metadata": {
        "id": "SbFw01U1ndoa"
      },
      "source": [
        "import string \n",
        "import re\n",
        "import codecs\n",
        "import numpy as np \n",
        "import pandas as pd\n",
        "import seaborn as sns\n",
        "import matplotlib.pyplot as plt\n",
        "from sklearn import feature_extraction\n",
        "from sklearn import linear_model\n",
        "from sklearn.naive_bayes import MultinomialNB\n",
        "from sklearn.linear_model import LogisticRegression\n",
        "from sklearn.tree import DecisionTreeClassifier\n",
        "from sklearn.ensemble import RandomForestClassifier\n",
        "from sklearn import pipeline\n",
        "from sklearn.model_selection import train_test_split\n",
        "from sklearn import metrics\n",
        "import itertools"
      ],
      "execution_count": null,
      "outputs": []
    },
    {
      "cell_type": "markdown",
      "metadata": {
        "id": "_Kueyohfndoc"
      },
      "source": [
        "### 2. Loading the data"
      ]
    },
    {
      "cell_type": "code",
      "metadata": {
        "id": "ORuQ0qbQndod",
        "colab": {
          "base_uri": "https://localhost:8080/"
        },
        "outputId": "e037f890-66d5-46aa-b7d6-ac2968589da2"
      },
      "source": [
        "# Loading english raw data\n",
        "\n",
        "english_df = pd.read_csv(\"/content/drive/MyDrive/LangDetect Dataset/europarl-v7.bg-en.en\", \"ut-8\", nrows= 100000, header=None, names=[\"English\"])\n",
        "\n",
        "df = pd.DataFrame(english_df)\n",
        "rows = df.shape[0]\n",
        "print(\"Rows: \" + str(rows))\n",
        "\n"
      ],
      "execution_count": null,
      "outputs": [
        {
          "output_type": "stream",
          "name": "stderr",
          "text": [
            "/usr/local/lib/python3.7/dist-packages/ipykernel_launcher.py:3: ParserWarning: Falling back to the 'python' engine because the 'c' engine does not support regex separators (separators > 1 char and different from '\\s+' are interpreted as regex); you can avoid this warning by specifying engine='python'.\n",
            "  This is separate from the ipykernel package so we can avoid doing imports until\n"
          ]
        },
        {
          "output_type": "stream",
          "name": "stdout",
          "text": [
            "Rows: 99976\n"
          ]
        }
      ]
    },
    {
      "cell_type": "code",
      "metadata": {
        "id": "uTWT4lLbndoe",
        "colab": {
          "base_uri": "https://localhost:8080/",
          "height": 206
        },
        "outputId": "ec24e9aa-9d74-4e24-a8dc-8d8ae9dfd5bd"
      },
      "source": [
        "english_df.head()"
      ],
      "execution_count": null,
      "outputs": [
        {
          "output_type": "execute_result",
          "data": {
            "text/html": [
              "\n",
              "  <div id=\"df-c4758ed9-dacb-4bc8-bb77-e4e3a0f0a36e\">\n",
              "    <div class=\"colab-df-container\">\n",
              "      <div>\n",
              "<style scoped>\n",
              "    .dataframe tbody tr th:only-of-type {\n",
              "        vertical-align: middle;\n",
              "    }\n",
              "\n",
              "    .dataframe tbody tr th {\n",
              "        vertical-align: top;\n",
              "    }\n",
              "\n",
              "    .dataframe thead th {\n",
              "        text-align: right;\n",
              "    }\n",
              "</style>\n",
              "<table border=\"1\" class=\"dataframe\">\n",
              "  <thead>\n",
              "    <tr style=\"text-align: right;\">\n",
              "      <th></th>\n",
              "      <th>English</th>\n",
              "    </tr>\n",
              "  </thead>\n",
              "  <tbody>\n",
              "    <tr>\n",
              "      <th>0</th>\n",
              "      <td>Membership of Parliament: see Minutes</td>\n",
              "    </tr>\n",
              "    <tr>\n",
              "      <th>1</th>\n",
              "      <td>Approval of Minutes of previous sitting: see M...</td>\n",
              "    </tr>\n",
              "    <tr>\n",
              "      <th>2</th>\n",
              "      <td>Membership of Parliament: see Minutes</td>\n",
              "    </tr>\n",
              "    <tr>\n",
              "      <th>3</th>\n",
              "      <td>Verification of credentials: see Minutes</td>\n",
              "    </tr>\n",
              "    <tr>\n",
              "      <th>4</th>\n",
              "      <td>Documents received: see Minutes</td>\n",
              "    </tr>\n",
              "  </tbody>\n",
              "</table>\n",
              "</div>\n",
              "      <button class=\"colab-df-convert\" onclick=\"convertToInteractive('df-c4758ed9-dacb-4bc8-bb77-e4e3a0f0a36e')\"\n",
              "              title=\"Convert this dataframe to an interactive table.\"\n",
              "              style=\"display:none;\">\n",
              "        \n",
              "  <svg xmlns=\"http://www.w3.org/2000/svg\" height=\"24px\"viewBox=\"0 0 24 24\"\n",
              "       width=\"24px\">\n",
              "    <path d=\"M0 0h24v24H0V0z\" fill=\"none\"/>\n",
              "    <path d=\"M18.56 5.44l.94 2.06.94-2.06 2.06-.94-2.06-.94-.94-2.06-.94 2.06-2.06.94zm-11 1L8.5 8.5l.94-2.06 2.06-.94-2.06-.94L8.5 2.5l-.94 2.06-2.06.94zm10 10l.94 2.06.94-2.06 2.06-.94-2.06-.94-.94-2.06-.94 2.06-2.06.94z\"/><path d=\"M17.41 7.96l-1.37-1.37c-.4-.4-.92-.59-1.43-.59-.52 0-1.04.2-1.43.59L10.3 9.45l-7.72 7.72c-.78.78-.78 2.05 0 2.83L4 21.41c.39.39.9.59 1.41.59.51 0 1.02-.2 1.41-.59l7.78-7.78 2.81-2.81c.8-.78.8-2.07 0-2.86zM5.41 20L4 18.59l7.72-7.72 1.47 1.35L5.41 20z\"/>\n",
              "  </svg>\n",
              "      </button>\n",
              "      \n",
              "  <style>\n",
              "    .colab-df-container {\n",
              "      display:flex;\n",
              "      flex-wrap:wrap;\n",
              "      gap: 12px;\n",
              "    }\n",
              "\n",
              "    .colab-df-convert {\n",
              "      background-color: #E8F0FE;\n",
              "      border: none;\n",
              "      border-radius: 50%;\n",
              "      cursor: pointer;\n",
              "      display: none;\n",
              "      fill: #1967D2;\n",
              "      height: 32px;\n",
              "      padding: 0 0 0 0;\n",
              "      width: 32px;\n",
              "    }\n",
              "\n",
              "    .colab-df-convert:hover {\n",
              "      background-color: #E2EBFA;\n",
              "      box-shadow: 0px 1px 2px rgba(60, 64, 67, 0.3), 0px 1px 3px 1px rgba(60, 64, 67, 0.15);\n",
              "      fill: #174EA6;\n",
              "    }\n",
              "\n",
              "    [theme=dark] .colab-df-convert {\n",
              "      background-color: #3B4455;\n",
              "      fill: #D2E3FC;\n",
              "    }\n",
              "\n",
              "    [theme=dark] .colab-df-convert:hover {\n",
              "      background-color: #434B5C;\n",
              "      box-shadow: 0px 1px 3px 1px rgba(0, 0, 0, 0.15);\n",
              "      filter: drop-shadow(0px 1px 2px rgba(0, 0, 0, 0.3));\n",
              "      fill: #FFFFFF;\n",
              "    }\n",
              "  </style>\n",
              "\n",
              "      <script>\n",
              "        const buttonEl =\n",
              "          document.querySelector('#df-c4758ed9-dacb-4bc8-bb77-e4e3a0f0a36e button.colab-df-convert');\n",
              "        buttonEl.style.display =\n",
              "          google.colab.kernel.accessAllowed ? 'block' : 'none';\n",
              "\n",
              "        async function convertToInteractive(key) {\n",
              "          const element = document.querySelector('#df-c4758ed9-dacb-4bc8-bb77-e4e3a0f0a36e');\n",
              "          const dataTable =\n",
              "            await google.colab.kernel.invokeFunction('convertToInteractive',\n",
              "                                                     [key], {});\n",
              "          if (!dataTable) return;\n",
              "\n",
              "          const docLinkHtml = 'Like what you see? Visit the ' +\n",
              "            '<a target=\"_blank\" href=https://colab.research.google.com/notebooks/data_table.ipynb>data table notebook</a>'\n",
              "            + ' to learn more about interactive tables.';\n",
              "          element.innerHTML = '';\n",
              "          dataTable['output_type'] = 'display_data';\n",
              "          await google.colab.output.renderOutput(dataTable, element);\n",
              "          const docLink = document.createElement('div');\n",
              "          docLink.innerHTML = docLinkHtml;\n",
              "          element.appendChild(docLink);\n",
              "        }\n",
              "      </script>\n",
              "    </div>\n",
              "  </div>\n",
              "  "
            ],
            "text/plain": [
              "                                             English\n",
              "0              Membership of Parliament: see Minutes\n",
              "1  Approval of Minutes of previous sitting: see M...\n",
              "2              Membership of Parliament: see Minutes\n",
              "3           Verification of credentials: see Minutes\n",
              "4                    Documents received: see Minutes"
            ]
          },
          "metadata": {},
          "execution_count": 4
        }
      ]
    },
    {
      "cell_type": "code",
      "metadata": {
        "id": "CL1G4yV5ndoe",
        "colab": {
          "base_uri": "https://localhost:8080/"
        },
        "outputId": "0bca0ebb-0e56-4e07-93fc-b2778dabe833"
      },
      "source": [
        "# Loading raw german data\n",
        "german_df = pd.read_csv(\"/content/drive/MyDrive/LangDetect Dataset/europarl-v7.de-en.de\", \"utf-8\", nrows= 100000, header=None, names=[\"German\"])\n",
        "german_df.head()\n",
        "\n",
        "df = pd.DataFrame(english_df)\n",
        "rows = df.shape[0]\n",
        "print(\"Rows: \" + str(rows))\n"
      ],
      "execution_count": null,
      "outputs": [
        {
          "output_type": "stream",
          "name": "stderr",
          "text": [
            "/usr/local/lib/python3.7/dist-packages/ipykernel_launcher.py:2: ParserWarning: Falling back to the 'python' engine because the 'c' engine does not support regex separators (separators > 1 char and different from '\\s+' are interpreted as regex); you can avoid this warning by specifying engine='python'.\n",
            "  \n"
          ]
        },
        {
          "output_type": "stream",
          "name": "stdout",
          "text": [
            "Rows: 99976\n"
          ]
        }
      ]
    },
    {
      "cell_type": "code",
      "metadata": {
        "id": "WKMKXswvndof",
        "colab": {
          "base_uri": "https://localhost:8080/"
        },
        "outputId": "ef0ac789-9b3a-430e-d062-14195c191a8e"
      },
      "source": [
        "# Loading raw french data\n",
        "\n",
        "french_df = pd.read_csv(\"/content/drive/MyDrive/LangDetect Dataset/europarl-v7.fr-en.fr\", \"utf-8\", nrows= 100000, header=None, names=[\"French\"])\n",
        "french_df.head()\n",
        "\n",
        "df = pd.DataFrame(english_df)\n",
        "rows = df.shape[0]\n",
        "print(\"Rows: \" + str(rows))\n"
      ],
      "execution_count": null,
      "outputs": [
        {
          "output_type": "stream",
          "name": "stderr",
          "text": [
            "/usr/local/lib/python3.7/dist-packages/ipykernel_launcher.py:3: ParserWarning: Falling back to the 'python' engine because the 'c' engine does not support regex separators (separators > 1 char and different from '\\s+' are interpreted as regex); you can avoid this warning by specifying engine='python'.\n",
            "  This is separate from the ipykernel package so we can avoid doing imports until\n"
          ]
        },
        {
          "output_type": "stream",
          "name": "stdout",
          "text": [
            "Rows: 99976\n"
          ]
        }
      ]
    },
    {
      "cell_type": "code",
      "metadata": {
        "id": "2f3r8Co3ndog",
        "colab": {
          "base_uri": "https://localhost:8080/"
        },
        "outputId": "f8108c11-c2a5-4afd-ab40-93955fd18c27"
      },
      "source": [
        "# Loading raw spanish data\n",
        "\n",
        "spanish_df = pd.read_csv(\"/content/drive/MyDrive/LangDetect Dataset/europarl-v7.es-en.es\", \"utf-8\", nrows= 100000, header=None, names=[\"Spanish\"])\n",
        "spanish_df.head()\n",
        "\n",
        "df = pd.DataFrame(english_df)\n",
        "rows = df.shape[0]\n",
        "print(\"Rows: \" + str(rows))\n"
      ],
      "execution_count": null,
      "outputs": [
        {
          "output_type": "stream",
          "name": "stderr",
          "text": [
            "/usr/local/lib/python3.7/dist-packages/ipykernel_launcher.py:3: ParserWarning: Falling back to the 'python' engine because the 'c' engine does not support regex separators (separators > 1 char and different from '\\s+' are interpreted as regex); you can avoid this warning by specifying engine='python'.\n",
            "  This is separate from the ipykernel package so we can avoid doing imports until\n"
          ]
        },
        {
          "output_type": "stream",
          "name": "stdout",
          "text": [
            "Rows: 99976\n"
          ]
        }
      ]
    },
    {
      "cell_type": "code",
      "metadata": {
        "id": "u0sp8hoendoh",
        "colab": {
          "base_uri": "https://localhost:8080/"
        },
        "outputId": "0ddbe6e3-dba7-41c3-b31f-be718db157ff"
      },
      "source": [
        "#Loading raw bulgarian data\n",
        "\n",
        "bulgarian_df = pd.read_csv(\"/content/drive/MyDrive/LangDetect Dataset/europarl-v7.bg-en.bg\", \"utf-8\", nrows= 100000, header=None, names=['Bulgarian'])\n",
        "bulgarian_df.head()\n",
        "\n",
        "df = pd.DataFrame(english_df)\n",
        "rows = df.shape[0]\n",
        "print(\"Rows: \" + str(rows))\n"
      ],
      "execution_count": null,
      "outputs": [
        {
          "output_type": "stream",
          "name": "stderr",
          "text": [
            "/usr/local/lib/python3.7/dist-packages/ipykernel_launcher.py:3: ParserWarning: Falling back to the 'python' engine because the 'c' engine does not support regex separators (separators > 1 char and different from '\\s+' are interpreted as regex); you can avoid this warning by specifying engine='python'.\n",
            "  This is separate from the ipykernel package so we can avoid doing imports until\n"
          ]
        },
        {
          "output_type": "stream",
          "name": "stdout",
          "text": [
            "Rows: 99976\n"
          ]
        }
      ]
    },
    {
      "cell_type": "code",
      "metadata": {
        "id": "Qy9g0WD9ndoi",
        "colab": {
          "base_uri": "https://localhost:8080/"
        },
        "outputId": "6e474418-9b89-4a92-e23b-3f7877c197c3"
      },
      "source": [
        "# Loading raw Czech data\n",
        "\n",
        "czech_df = pd.read_csv(\"/content/drive/MyDrive/LangDetect Dataset/europarl-v7.cs-en.cs\", \"utf-8\", nrows= 100000, header=None, names=['Czech'])\n",
        "czech_df.head()\n",
        "\n",
        "df = pd.DataFrame(english_df)\n",
        "rows = df.shape[0]\n",
        "print(\"Rows: \" + str(rows))\n"
      ],
      "execution_count": null,
      "outputs": [
        {
          "output_type": "stream",
          "name": "stderr",
          "text": [
            "/usr/local/lib/python3.7/dist-packages/ipykernel_launcher.py:3: ParserWarning: Falling back to the 'python' engine because the 'c' engine does not support regex separators (separators > 1 char and different from '\\s+' are interpreted as regex); you can avoid this warning by specifying engine='python'.\n",
            "  This is separate from the ipykernel package so we can avoid doing imports until\n"
          ]
        },
        {
          "output_type": "stream",
          "name": "stdout",
          "text": [
            "Rows: 99976\n"
          ]
        }
      ]
    },
    {
      "cell_type": "code",
      "metadata": {
        "id": "oszgaQaGndoi",
        "colab": {
          "base_uri": "https://localhost:8080/"
        },
        "outputId": "f10419a8-fd17-43e4-daeb-16bd19569f48"
      },
      "source": [
        "# Loading raw Danish data\n",
        "\n",
        "danish_df = pd.read_csv('/content/drive/MyDrive/LangDetect Dataset/europarl-v7.da-en.da', \"utf-8\", nrows= 100000, header=None, names=['Danish'])\n",
        "danish_df.head()\n",
        "\n",
        "df = pd.DataFrame(english_df)\n",
        "rows = df.shape[0]\n",
        "print(\"Rows: \" + str(rows))\n"
      ],
      "execution_count": null,
      "outputs": [
        {
          "output_type": "stream",
          "name": "stderr",
          "text": [
            "/usr/local/lib/python3.7/dist-packages/ipykernel_launcher.py:3: ParserWarning: Falling back to the 'python' engine because the 'c' engine does not support regex separators (separators > 1 char and different from '\\s+' are interpreted as regex); you can avoid this warning by specifying engine='python'.\n",
            "  This is separate from the ipykernel package so we can avoid doing imports until\n"
          ]
        },
        {
          "output_type": "stream",
          "name": "stdout",
          "text": [
            "Rows: 99976\n"
          ]
        }
      ]
    },
    {
      "cell_type": "code",
      "metadata": {
        "id": "IO7HL0d4ndoi",
        "colab": {
          "base_uri": "https://localhost:8080/"
        },
        "outputId": "f093f32f-17b5-43a5-988b-48f4d7c701a3"
      },
      "source": [
        "# Loading raw Finnish data\n",
        "\n",
        "finnish_df = pd.read_csv('/content/drive/MyDrive/LangDetect Dataset/europarl-v7.fi-en.fi', \"utf-8\", nrows= 100000, header=None, names=['Finnish'])\n",
        "finnish_df.head()\n",
        "\n",
        "df = pd.DataFrame(english_df)\n",
        "rows = df.shape[0]\n",
        "print(\"Rows: \" + str(rows))\n"
      ],
      "execution_count": null,
      "outputs": [
        {
          "output_type": "stream",
          "name": "stderr",
          "text": [
            "/usr/local/lib/python3.7/dist-packages/ipykernel_launcher.py:3: ParserWarning: Falling back to the 'python' engine because the 'c' engine does not support regex separators (separators > 1 char and different from '\\s+' are interpreted as regex); you can avoid this warning by specifying engine='python'.\n",
            "  This is separate from the ipykernel package so we can avoid doing imports until\n"
          ]
        },
        {
          "output_type": "stream",
          "name": "stdout",
          "text": [
            "Rows: 99976\n"
          ]
        }
      ]
    },
    {
      "cell_type": "code",
      "metadata": {
        "id": "MSJorZh6ndoj",
        "colab": {
          "base_uri": "https://localhost:8080/"
        },
        "outputId": "572eacfb-343c-445e-879c-515374cc2d22"
      },
      "source": [
        "# Loading raw Hungarian data\n",
        "\n",
        "hungarian_df = pd.read_csv('/content/drive/MyDrive/LangDetect Dataset/europarl-v7.hu-en.hu', 'utf-8', nrows= 100000, header=None, names=['Hungarian'])\n",
        "hungarian_df.head()\n",
        "\n",
        "df = pd.DataFrame(english_df)\n",
        "rows = df.shape[0]\n",
        "print(\"Rows: \" + str(rows))\n"
      ],
      "execution_count": null,
      "outputs": [
        {
          "output_type": "stream",
          "name": "stderr",
          "text": [
            "/usr/local/lib/python3.7/dist-packages/ipykernel_launcher.py:3: ParserWarning: Falling back to the 'python' engine because the 'c' engine does not support regex separators (separators > 1 char and different from '\\s+' are interpreted as regex); you can avoid this warning by specifying engine='python'.\n",
            "  This is separate from the ipykernel package so we can avoid doing imports until\n"
          ]
        },
        {
          "output_type": "stream",
          "name": "stdout",
          "text": [
            "Rows: 99976\n"
          ]
        }
      ]
    },
    {
      "cell_type": "code",
      "metadata": {
        "id": "459x1iDNndok",
        "colab": {
          "base_uri": "https://localhost:8080/"
        },
        "outputId": "c25768ba-ea32-450c-8500-2bbcad99bf73"
      },
      "source": [
        "# Loading raw Latvian data\n",
        "\n",
        "latvian_df = pd.read_csv('/content/drive/MyDrive/LangDetect Dataset/europarl-v7.lv-en.lv', 'utf-8', nrows= 100000, header=None, names=['Latvian'])\n",
        "latvian_df.head()\n",
        "\n",
        "df = pd.DataFrame(english_df)\n",
        "rows = df.shape[0]\n",
        "print(\"Rows: \" + str(rows))\n"
      ],
      "execution_count": null,
      "outputs": [
        {
          "output_type": "stream",
          "name": "stderr",
          "text": [
            "/usr/local/lib/python3.7/dist-packages/ipykernel_launcher.py:3: ParserWarning: Falling back to the 'python' engine because the 'c' engine does not support regex separators (separators > 1 char and different from '\\s+' are interpreted as regex); you can avoid this warning by specifying engine='python'.\n",
            "  This is separate from the ipykernel package so we can avoid doing imports until\n"
          ]
        },
        {
          "output_type": "stream",
          "name": "stdout",
          "text": [
            "Rows: 99976\n"
          ]
        }
      ]
    },
    {
      "cell_type": "code",
      "metadata": {
        "id": "r627RluJndok",
        "colab": {
          "base_uri": "https://localhost:8080/"
        },
        "outputId": "c4c5f52c-1f85-4da0-8d6d-a006c1bf2396"
      },
      "source": [
        "# Loading raw Dutch data\n",
        "\n",
        "dutch_df = pd.read_csv('/content/drive/MyDrive/LangDetect Dataset/europarl-v7.nl-en.nl', 'utf-8', nrows= 100000, header=None, names=['Dutch'])\n",
        "dutch_df.head()\n",
        "\n",
        "df = pd.DataFrame(english_df)\n",
        "rows = df.shape[0]\n",
        "print(\"Rows: \" + str(rows))\n"
      ],
      "execution_count": null,
      "outputs": [
        {
          "output_type": "stream",
          "name": "stderr",
          "text": [
            "/usr/local/lib/python3.7/dist-packages/ipykernel_launcher.py:3: ParserWarning: Falling back to the 'python' engine because the 'c' engine does not support regex separators (separators > 1 char and different from '\\s+' are interpreted as regex); you can avoid this warning by specifying engine='python'.\n",
            "  This is separate from the ipykernel package so we can avoid doing imports until\n"
          ]
        },
        {
          "output_type": "stream",
          "name": "stdout",
          "text": [
            "Rows: 99976\n"
          ]
        }
      ]
    },
    {
      "cell_type": "code",
      "metadata": {
        "id": "ksJaCHJrndok",
        "colab": {
          "base_uri": "https://localhost:8080/"
        },
        "outputId": "06a256de-bcdc-4337-a7be-e1d1036fd12c"
      },
      "source": [
        "# Loading raw Polish data\n",
        "\n",
        "polish_df = pd.read_csv('/content/drive/MyDrive/LangDetect Dataset/europarl-v7.pl-en.pl', 'utf-8', nrows= 100000, header=None, names=['Polish'])\n",
        "polish_df.head()\n",
        "\n",
        "df = pd.DataFrame(english_df)\n",
        "rows = df.shape[0]\n",
        "print(\"Rows: \" + str(rows))\n"
      ],
      "execution_count": null,
      "outputs": [
        {
          "output_type": "stream",
          "name": "stderr",
          "text": [
            "/usr/local/lib/python3.7/dist-packages/ipykernel_launcher.py:3: ParserWarning: Falling back to the 'python' engine because the 'c' engine does not support regex separators (separators > 1 char and different from '\\s+' are interpreted as regex); you can avoid this warning by specifying engine='python'.\n",
            "  This is separate from the ipykernel package so we can avoid doing imports until\n"
          ]
        },
        {
          "output_type": "stream",
          "name": "stdout",
          "text": [
            "Rows: 99976\n"
          ]
        }
      ]
    },
    {
      "cell_type": "code",
      "metadata": {
        "id": "G9vYqB5Yndok",
        "colab": {
          "base_uri": "https://localhost:8080/"
        },
        "outputId": "edf7f80e-fc21-4175-c59c-2ddb2aa5a1c5"
      },
      "source": [
        "# Loading raw Portuguese data\n",
        "\n",
        "portuguese_data = pd.read_csv('/content/drive/MyDrive/LangDetect Dataset/europarl-v7.pt-en.pt', 'utf-8', nrows= 100000, header=None, names=['Portuguese'])\n",
        "portuguese_data.head()\n",
        "\n",
        "df = pd.DataFrame(english_df)\n",
        "rows = df.shape[0]\n",
        "print(\"Rows: \" + str(rows))\n"
      ],
      "execution_count": null,
      "outputs": [
        {
          "output_type": "stream",
          "name": "stderr",
          "text": [
            "/usr/local/lib/python3.7/dist-packages/ipykernel_launcher.py:3: ParserWarning: Falling back to the 'python' engine because the 'c' engine does not support regex separators (separators > 1 char and different from '\\s+' are interpreted as regex); you can avoid this warning by specifying engine='python'.\n",
            "  This is separate from the ipykernel package so we can avoid doing imports until\n"
          ]
        },
        {
          "output_type": "stream",
          "name": "stdout",
          "text": [
            "Rows: 99976\n"
          ]
        }
      ]
    },
    {
      "cell_type": "code",
      "metadata": {
        "id": "Im2NTox6ndol",
        "colab": {
          "base_uri": "https://localhost:8080/"
        },
        "outputId": "b403dd02-3fc4-4974-eb81-783dcfe24ac4"
      },
      "source": [
        "# Loading raw Romanian data\n",
        "\n",
        "romanian_df = pd.read_csv('/content/drive/MyDrive/LangDetect Dataset/europarl-v7.ro-en.ro', 'utf-8', nrows= 100000, header=None, names=['Romanian'])\n",
        "romanian_df.head()\n",
        "\n",
        "df = pd.DataFrame(english_df)\n",
        "rows = df.shape[0]\n",
        "print(\"Rows: \" + str(rows))\n"
      ],
      "execution_count": null,
      "outputs": [
        {
          "output_type": "stream",
          "name": "stderr",
          "text": [
            "/usr/local/lib/python3.7/dist-packages/ipykernel_launcher.py:3: ParserWarning: Falling back to the 'python' engine because the 'c' engine does not support regex separators (separators > 1 char and different from '\\s+' are interpreted as regex); you can avoid this warning by specifying engine='python'.\n",
            "  This is separate from the ipykernel package so we can avoid doing imports until\n"
          ]
        },
        {
          "output_type": "stream",
          "name": "stdout",
          "text": [
            "Rows: 99976\n"
          ]
        }
      ]
    },
    {
      "cell_type": "code",
      "metadata": {
        "id": "Pu4klJtfndom",
        "colab": {
          "base_uri": "https://localhost:8080/"
        },
        "outputId": "978fc30a-14be-4a89-978b-d1b77d13f916"
      },
      "source": [
        "# Loading raw Slovenian data\n",
        "\n",
        "slovenian_df = pd.read_csv('/content/drive/MyDrive/LangDetect Dataset/europarl-v7.sl-en.sl', 'utf-8', nrows= 100000, header=None, names=['Slovenian'])\n",
        "slovenian_df.head()\n",
        "\n",
        "df = pd.DataFrame(english_df)\n",
        "rows = df.shape[0]\n",
        "print(\"Rows: \" + str(rows))\n"
      ],
      "execution_count": null,
      "outputs": [
        {
          "output_type": "stream",
          "name": "stderr",
          "text": [
            "/usr/local/lib/python3.7/dist-packages/ipykernel_launcher.py:3: ParserWarning: Falling back to the 'python' engine because the 'c' engine does not support regex separators (separators > 1 char and different from '\\s+' are interpreted as regex); you can avoid this warning by specifying engine='python'.\n",
            "  This is separate from the ipykernel package so we can avoid doing imports until\n"
          ]
        },
        {
          "output_type": "stream",
          "name": "stdout",
          "text": [
            "Rows: 99976\n"
          ]
        }
      ]
    },
    {
      "cell_type": "markdown",
      "metadata": {
        "id": "D_3HVfxQndom"
      },
      "source": [
        "### 3. Data Preprocessing"
      ]
    },
    {
      "cell_type": "code",
      "metadata": {
        "scrolled": true,
        "id": "sG28AutMndom",
        "colab": {
          "base_uri": "https://localhost:8080/"
        },
        "outputId": "a5ce211e-0f51-4c01-951b-13f7dcd92c20"
      },
      "source": [
        "for char in string.punctuation:\n",
        "    print(char, end = ' ')\n",
        "translate_table = dict((ord(char), None) for char in string.punctuation)"
      ],
      "execution_count": null,
      "outputs": [
        {
          "output_type": "stream",
          "name": "stdout",
          "text": [
            "! \" # $ % & ' ( ) * + , - . / : ; < = > ? @ [ \\ ] ^ _ ` { | } ~ "
          ]
        }
      ]
    },
    {
      "cell_type": "code",
      "metadata": {
        "id": "fwIePQ3fndon"
      },
      "source": [
        "# Cleaning the data for english dataset\n",
        "\n",
        "data_eng = []\n",
        "lang_eng = []\n",
        "\n",
        "for i, line in english_df.iterrows():\n",
        "    line = line['English']\n",
        "    if len(line) !=0:\n",
        "        line = line.lower()\n",
        "        line = re.sub(r\"\\d+\", \"\", line)\n",
        "        line = line.translate(translate_table)\n",
        "        data_eng.append(line)\n",
        "        lang_eng.append(\"English\")"
      ],
      "execution_count": null,
      "outputs": []
    },
    {
      "cell_type": "code",
      "metadata": {
        "id": "1BlY4OWtndon"
      },
      "source": [
        "# Cleaning the data for german dataset\n",
        "\n",
        "data_ger = []\n",
        "lang_ger = []\n",
        "\n",
        "for i, line in german_df.iterrows():\n",
        "    line = line['German']\n",
        "    if len(line) !=0:\n",
        "        line = line.lower()\n",
        "        line = re.sub(r\"\\d+\", \"\", line)\n",
        "        line = line.translate(translate_table)\n",
        "        data_ger.append(line)\n",
        "        lang_ger.append(\"German\")"
      ],
      "execution_count": null,
      "outputs": []
    },
    {
      "cell_type": "code",
      "metadata": {
        "id": "284USTIUndon"
      },
      "source": [
        "# Cleaning the data for french dataset\n",
        "\n",
        "data_fre = []\n",
        "lang_fre = []\n",
        "\n",
        "for i, line in french_df.iterrows():\n",
        "    line = line['French']\n",
        "    if len(line) !=0:\n",
        "        line = line.lower()\n",
        "        line = re.sub(r\"\\d+\", \"\", line)\n",
        "        line = line.translate(translate_table)\n",
        "        data_fre.append(line)\n",
        "        lang_fre.append(\"French\")"
      ],
      "execution_count": null,
      "outputs": []
    },
    {
      "cell_type": "code",
      "metadata": {
        "id": "EpnhAX8Yndon"
      },
      "source": [
        "# Cleaning the data for spanish dataset\n",
        "\n",
        "data_esp = []\n",
        "lang_esp = []\n",
        "\n",
        "for i, line in spanish_df.iterrows():\n",
        "    line = line['Spanish']\n",
        "    if len(line) !=0:\n",
        "        line = line.lower()\n",
        "        line = re.sub(r\"\\d+\", \"\", line)\n",
        "        line = line.translate(translate_table)\n",
        "        data_esp.append(line)\n",
        "        lang_esp.append(\"Spanish\")"
      ],
      "execution_count": null,
      "outputs": []
    },
    {
      "cell_type": "code",
      "metadata": {
        "id": "TM0JfV_Nndon"
      },
      "source": [
        "# Cleaning the data for Bulgarian dataset\n",
        "\n",
        "data_bul = []\n",
        "lang_bul = []\n",
        "\n",
        "for i, line in bulgarian_df.iterrows():\n",
        "    line = line['Bulgarian']\n",
        "    if len(line) !=0:\n",
        "        line = line.lower()\n",
        "        line = re.sub(r\"\\d+\", \"\", line)\n",
        "        line = line.translate(translate_table)\n",
        "        data_esp.append(line)\n",
        "        lang_esp.append(\"Bulgarian\")"
      ],
      "execution_count": null,
      "outputs": []
    },
    {
      "cell_type": "code",
      "metadata": {
        "id": "oedkwtrGndoo"
      },
      "source": [
        "# Cleaning the data for Czech dataset\n",
        "\n",
        "data_czech = []\n",
        "lang_czech = []\n",
        "\n",
        "for i, line in czech_df.iterrows():\n",
        "    line = line['Czech']\n",
        "    if len(line) !=0:\n",
        "        line = line.lower()\n",
        "        line = re.sub(r\"\\d+\", \"\", line)\n",
        "        line = line.translate(translate_table)\n",
        "        data_esp.append(line)\n",
        "        lang_esp.append(\"Czech\")"
      ],
      "execution_count": null,
      "outputs": []
    },
    {
      "cell_type": "code",
      "metadata": {
        "id": "HrWK8Krfndoo"
      },
      "source": [
        "# Cleaning the data for Danish dataset\n",
        "\n",
        "data_dan = []\n",
        "lang_dan = []\n",
        "\n",
        "for i, line in danish_df.iterrows():\n",
        "    line = line['Danish']\n",
        "    if len(line) !=0:\n",
        "        line = line.lower()\n",
        "        line = re.sub(r\"\\d+\", \"\", line)\n",
        "        line = line.translate(translate_table)\n",
        "        data_esp.append(line)\n",
        "        lang_esp.append(\"Danish\")"
      ],
      "execution_count": null,
      "outputs": []
    },
    {
      "cell_type": "code",
      "metadata": {
        "id": "CKkQtUSEndoo"
      },
      "source": [
        "# Cleaning the data for finnish dataset\n",
        "\n",
        "data_fin = []\n",
        "lang_fin = []\n",
        "\n",
        "for i, line in finnish_df.iterrows():\n",
        "    line = line['Finnish']\n",
        "    if len(line) !=0:\n",
        "        line = line.lower()\n",
        "        line = re.sub(r\"\\d+\", \"\", line)\n",
        "        line = line.translate(translate_table)\n",
        "        data_esp.append(line)\n",
        "        lang_esp.append(\"Finnish\")"
      ],
      "execution_count": null,
      "outputs": []
    },
    {
      "cell_type": "code",
      "metadata": {
        "id": "X7OE1EB-ndoo"
      },
      "source": [
        "# Cleaning the data for Hugarian dataset\n",
        "\n",
        "data_hung = []\n",
        "lang_hung = []\n",
        "\n",
        "for i, line in hungarian_df.iterrows():\n",
        "    line = line['Hungarian']\n",
        "    if len(line) !=0:\n",
        "        line = line.lower()\n",
        "        line = re.sub(r\"\\d+\", \"\", line)\n",
        "        line = line.translate(translate_table)\n",
        "        data_esp.append(line)\n",
        "        lang_esp.append(\"Hungarian\")"
      ],
      "execution_count": null,
      "outputs": []
    },
    {
      "cell_type": "code",
      "metadata": {
        "id": "E7tQkuxYndoo"
      },
      "source": [
        "# Cleaning the data for Latvian dataset\n",
        "\n",
        "data_lat = []\n",
        "lang_lat = []\n",
        "\n",
        "for i, line in latvian_df.iterrows():\n",
        "    line = line['Latvian']\n",
        "    if len(line) !=0:\n",
        "        line = line.lower()\n",
        "        line = re.sub(r\"\\d+\", \"\", line)\n",
        "        line = line.translate(translate_table)\n",
        "        data_esp.append(line)\n",
        "        lang_esp.append(\"Latvian\")"
      ],
      "execution_count": null,
      "outputs": []
    },
    {
      "cell_type": "code",
      "metadata": {
        "id": "JVU3fkonndoo"
      },
      "source": [
        "# Cleaning the data for Dutch dataset\n",
        "\n",
        "data_dutch = []\n",
        "lang_dutch = []\n",
        "\n",
        "for i, line in dutch_df.iterrows():\n",
        "    line = line['Dutch']\n",
        "    if len(line) !=0:\n",
        "        line = line.lower()\n",
        "        line = re.sub(r\"\\d+\", \"\", line)\n",
        "        line = line.translate(translate_table)\n",
        "        data_esp.append(line)\n",
        "        lang_esp.append(\"Dutch\")"
      ],
      "execution_count": null,
      "outputs": []
    },
    {
      "cell_type": "code",
      "metadata": {
        "id": "7HznqPerndop"
      },
      "source": [
        "# Cleaning the data for Polish dataset\n",
        "\n",
        "data_pol = []\n",
        "lang_pol = []\n",
        "\n",
        "for i, line in polish_df.iterrows():\n",
        "    line = line['Polish']\n",
        "    if len(line) !=0:\n",
        "        line = line.lower()\n",
        "        line = re.sub(r\"\\d+\", \"\", line)\n",
        "        line = line.translate(translate_table)\n",
        "        data_esp.append(line)\n",
        "        lang_esp.append(\"Polish\")"
      ],
      "execution_count": null,
      "outputs": []
    },
    {
      "cell_type": "code",
      "metadata": {
        "id": "qi8TKbeFndop"
      },
      "source": [
        "# Cleaning the data for Portuguese dataset\n",
        "\n",
        "data_port = []\n",
        "lang_port = []\n",
        "\n",
        "for i, line in portuguese_data.iterrows():\n",
        "    line = line['Portuguese']\n",
        "    if len(line) !=0:\n",
        "        line = line.lower()\n",
        "        line = re.sub(r\"\\d+\", \"\", line)\n",
        "        line = line.translate(translate_table)\n",
        "        data_esp.append(line)\n",
        "        lang_esp.append(\"Portuguese\")"
      ],
      "execution_count": null,
      "outputs": []
    },
    {
      "cell_type": "code",
      "metadata": {
        "id": "FL99cSaIndop"
      },
      "source": [
        "# Cleaning the data for Romanian dataset\n",
        "\n",
        "data_rom = []\n",
        "lang_rom = []\n",
        "\n",
        "for i, line in romanian_df.iterrows():\n",
        "    line = line['Romanian']\n",
        "    if len(line) !=0:\n",
        "        line = line.lower()\n",
        "        line = re.sub(r\"\\d+\", \"\", line)\n",
        "        line = line.translate(translate_table)\n",
        "        data_esp.append(line)\n",
        "        lang_esp.append(\"Romanian\")"
      ],
      "execution_count": null,
      "outputs": []
    },
    {
      "cell_type": "code",
      "metadata": {
        "id": "iYeyN-Jtndop"
      },
      "source": [
        "# Cleaning the data for Romanian dataset\n",
        "\n",
        "data_slo = []\n",
        "lang_slo = []\n",
        "\n",
        "for i, line in slovenian_df.iterrows():\n",
        "    line = line['Slovenian']\n",
        "    if len(line) !=0:\n",
        "        line = line.lower()\n",
        "        line = re.sub(r\"\\d+\", \"\", line)\n",
        "        line = line.translate(translate_table)\n",
        "        data_esp.append(line)\n",
        "        lang_esp.append(\"Slovenian\")"
      ],
      "execution_count": null,
      "outputs": []
    },
    {
      "cell_type": "markdown",
      "metadata": {
        "id": "uHTXpcUwndop"
      },
      "source": [
        "### 4. Transforming the data into a single dataset"
      ]
    },
    {
      "cell_type": "code",
      "metadata": {
        "id": "XAooljiendop",
        "colab": {
          "base_uri": "https://localhost:8080/"
        },
        "outputId": "b35d82cc-d647-436a-a972-9b1cddda5988"
      },
      "source": [
        "df = pd.DataFrame({\n",
        "    \"Text\" : data_eng+data_ger+data_fre+data_esp+data_bul+data_czech+data_dan+data_fin+data_hung+data_lat+data_dutch+data_port+data_pol+data_rom+data_slo,\n",
        "    \"Language\" : lang_eng+lang_ger+lang_fre+lang_esp+lang_bul+lang_czech+lang_dan+lang_fin+lang_hung+lang_lat+lang_dutch+lang_port+lang_pol+lang_rom+lang_slo\n",
        "})\n",
        "\n",
        "print(df.shape)"
      ],
      "execution_count": null,
      "outputs": [
        {
          "output_type": "stream",
          "name": "stdout",
          "text": [
            "(1498648, 2)\n"
          ]
        }
      ]
    },
    {
      "cell_type": "code",
      "metadata": {
        "id": "SVyo88X-ndoq",
        "colab": {
          "base_uri": "https://localhost:8080/",
          "height": 206
        },
        "outputId": "326824bd-bc18-4574-b56b-2a3edb2ba6ad"
      },
      "source": [
        "df.head()"
      ],
      "execution_count": null,
      "outputs": [
        {
          "output_type": "execute_result",
          "data": {
            "text/html": [
              "\n",
              "  <div id=\"df-c99b4d5d-16b8-4308-b256-2672dccda37a\">\n",
              "    <div class=\"colab-df-container\">\n",
              "      <div>\n",
              "<style scoped>\n",
              "    .dataframe tbody tr th:only-of-type {\n",
              "        vertical-align: middle;\n",
              "    }\n",
              "\n",
              "    .dataframe tbody tr th {\n",
              "        vertical-align: top;\n",
              "    }\n",
              "\n",
              "    .dataframe thead th {\n",
              "        text-align: right;\n",
              "    }\n",
              "</style>\n",
              "<table border=\"1\" class=\"dataframe\">\n",
              "  <thead>\n",
              "    <tr style=\"text-align: right;\">\n",
              "      <th></th>\n",
              "      <th>Text</th>\n",
              "      <th>Language</th>\n",
              "    </tr>\n",
              "  </thead>\n",
              "  <tbody>\n",
              "    <tr>\n",
              "      <th>0</th>\n",
              "      <td>membership of parliament see minutes</td>\n",
              "      <td>English</td>\n",
              "    </tr>\n",
              "    <tr>\n",
              "      <th>1</th>\n",
              "      <td>approval of minutes of previous sitting see mi...</td>\n",
              "      <td>English</td>\n",
              "    </tr>\n",
              "    <tr>\n",
              "      <th>2</th>\n",
              "      <td>membership of parliament see minutes</td>\n",
              "      <td>English</td>\n",
              "    </tr>\n",
              "    <tr>\n",
              "      <th>3</th>\n",
              "      <td>verification of credentials see minutes</td>\n",
              "      <td>English</td>\n",
              "    </tr>\n",
              "    <tr>\n",
              "      <th>4</th>\n",
              "      <td>documents received see minutes</td>\n",
              "      <td>English</td>\n",
              "    </tr>\n",
              "  </tbody>\n",
              "</table>\n",
              "</div>\n",
              "      <button class=\"colab-df-convert\" onclick=\"convertToInteractive('df-c99b4d5d-16b8-4308-b256-2672dccda37a')\"\n",
              "              title=\"Convert this dataframe to an interactive table.\"\n",
              "              style=\"display:none;\">\n",
              "        \n",
              "  <svg xmlns=\"http://www.w3.org/2000/svg\" height=\"24px\"viewBox=\"0 0 24 24\"\n",
              "       width=\"24px\">\n",
              "    <path d=\"M0 0h24v24H0V0z\" fill=\"none\"/>\n",
              "    <path d=\"M18.56 5.44l.94 2.06.94-2.06 2.06-.94-2.06-.94-.94-2.06-.94 2.06-2.06.94zm-11 1L8.5 8.5l.94-2.06 2.06-.94-2.06-.94L8.5 2.5l-.94 2.06-2.06.94zm10 10l.94 2.06.94-2.06 2.06-.94-2.06-.94-.94-2.06-.94 2.06-2.06.94z\"/><path d=\"M17.41 7.96l-1.37-1.37c-.4-.4-.92-.59-1.43-.59-.52 0-1.04.2-1.43.59L10.3 9.45l-7.72 7.72c-.78.78-.78 2.05 0 2.83L4 21.41c.39.39.9.59 1.41.59.51 0 1.02-.2 1.41-.59l7.78-7.78 2.81-2.81c.8-.78.8-2.07 0-2.86zM5.41 20L4 18.59l7.72-7.72 1.47 1.35L5.41 20z\"/>\n",
              "  </svg>\n",
              "      </button>\n",
              "      \n",
              "  <style>\n",
              "    .colab-df-container {\n",
              "      display:flex;\n",
              "      flex-wrap:wrap;\n",
              "      gap: 12px;\n",
              "    }\n",
              "\n",
              "    .colab-df-convert {\n",
              "      background-color: #E8F0FE;\n",
              "      border: none;\n",
              "      border-radius: 50%;\n",
              "      cursor: pointer;\n",
              "      display: none;\n",
              "      fill: #1967D2;\n",
              "      height: 32px;\n",
              "      padding: 0 0 0 0;\n",
              "      width: 32px;\n",
              "    }\n",
              "\n",
              "    .colab-df-convert:hover {\n",
              "      background-color: #E2EBFA;\n",
              "      box-shadow: 0px 1px 2px rgba(60, 64, 67, 0.3), 0px 1px 3px 1px rgba(60, 64, 67, 0.15);\n",
              "      fill: #174EA6;\n",
              "    }\n",
              "\n",
              "    [theme=dark] .colab-df-convert {\n",
              "      background-color: #3B4455;\n",
              "      fill: #D2E3FC;\n",
              "    }\n",
              "\n",
              "    [theme=dark] .colab-df-convert:hover {\n",
              "      background-color: #434B5C;\n",
              "      box-shadow: 0px 1px 3px 1px rgba(0, 0, 0, 0.15);\n",
              "      filter: drop-shadow(0px 1px 2px rgba(0, 0, 0, 0.3));\n",
              "      fill: #FFFFFF;\n",
              "    }\n",
              "  </style>\n",
              "\n",
              "      <script>\n",
              "        const buttonEl =\n",
              "          document.querySelector('#df-c99b4d5d-16b8-4308-b256-2672dccda37a button.colab-df-convert');\n",
              "        buttonEl.style.display =\n",
              "          google.colab.kernel.accessAllowed ? 'block' : 'none';\n",
              "\n",
              "        async function convertToInteractive(key) {\n",
              "          const element = document.querySelector('#df-c99b4d5d-16b8-4308-b256-2672dccda37a');\n",
              "          const dataTable =\n",
              "            await google.colab.kernel.invokeFunction('convertToInteractive',\n",
              "                                                     [key], {});\n",
              "          if (!dataTable) return;\n",
              "\n",
              "          const docLinkHtml = 'Like what you see? Visit the ' +\n",
              "            '<a target=\"_blank\" href=https://colab.research.google.com/notebooks/data_table.ipynb>data table notebook</a>'\n",
              "            + ' to learn more about interactive tables.';\n",
              "          element.innerHTML = '';\n",
              "          dataTable['output_type'] = 'display_data';\n",
              "          await google.colab.output.renderOutput(dataTable, element);\n",
              "          const docLink = document.createElement('div');\n",
              "          docLink.innerHTML = docLinkHtml;\n",
              "          element.appendChild(docLink);\n",
              "        }\n",
              "      </script>\n",
              "    </div>\n",
              "  </div>\n",
              "  "
            ],
            "text/plain": [
              "                                                Text Language\n",
              "0               membership of parliament see minutes  English\n",
              "1  approval of minutes of previous sitting see mi...  English\n",
              "2               membership of parliament see minutes  English\n",
              "3            verification of credentials see minutes  English\n",
              "4                     documents received see minutes  English"
            ]
          },
          "metadata": {},
          "execution_count": 36
        }
      ]
    },
    {
      "cell_type": "code",
      "metadata": {
        "id": "N9huTtyfndoq",
        "colab": {
          "base_uri": "https://localhost:8080/",
          "height": 206
        },
        "outputId": "966617ed-a341-445e-9b49-efd7ffc6c5bd"
      },
      "source": [
        "df.tail()"
      ],
      "execution_count": null,
      "outputs": [
        {
          "output_type": "execute_result",
          "data": {
            "text/html": [
              "\n",
              "  <div id=\"df-ab7b85ff-8cef-4d48-be63-5e068f14ad07\">\n",
              "    <div class=\"colab-df-container\">\n",
              "      <div>\n",
              "<style scoped>\n",
              "    .dataframe tbody tr th:only-of-type {\n",
              "        vertical-align: middle;\n",
              "    }\n",
              "\n",
              "    .dataframe tbody tr th {\n",
              "        vertical-align: top;\n",
              "    }\n",
              "\n",
              "    .dataframe thead th {\n",
              "        text-align: right;\n",
              "    }\n",
              "</style>\n",
              "<table border=\"1\" class=\"dataframe\">\n",
              "  <thead>\n",
              "    <tr style=\"text-align: right;\">\n",
              "      <th></th>\n",
              "      <th>Text</th>\n",
              "      <th>Language</th>\n",
              "    </tr>\n",
              "  </thead>\n",
              "  <tbody>\n",
              "    <tr>\n",
              "      <th>1498643</th>\n",
              "      <td>el gospod predsednik predlagam da se s spoštov...</td>\n",
              "      <td>Slovenian</td>\n",
              "    </tr>\n",
              "    <tr>\n",
              "      <th>1498644</th>\n",
              "      <td>ponovno moramo opozoriti na vprašanje zaščite ...</td>\n",
              "      <td>Slovenian</td>\n",
              "    </tr>\n",
              "    <tr>\n",
              "      <th>1498645</th>\n",
              "      <td>obravnavajmo brezposelnost podzaposlenost in n...</td>\n",
              "      <td>Slovenian</td>\n",
              "    </tr>\n",
              "    <tr>\n",
              "      <th>1498646</th>\n",
              "      <td>te agencije za zaposlovanje ravnajo z njimi ko...</td>\n",
              "      <td>Slovenian</td>\n",
              "    </tr>\n",
              "    <tr>\n",
              "      <th>1498647</th>\n",
              "      <td>kako ščitimo delavce</td>\n",
              "      <td>Slovenian</td>\n",
              "    </tr>\n",
              "  </tbody>\n",
              "</table>\n",
              "</div>\n",
              "      <button class=\"colab-df-convert\" onclick=\"convertToInteractive('df-ab7b85ff-8cef-4d48-be63-5e068f14ad07')\"\n",
              "              title=\"Convert this dataframe to an interactive table.\"\n",
              "              style=\"display:none;\">\n",
              "        \n",
              "  <svg xmlns=\"http://www.w3.org/2000/svg\" height=\"24px\"viewBox=\"0 0 24 24\"\n",
              "       width=\"24px\">\n",
              "    <path d=\"M0 0h24v24H0V0z\" fill=\"none\"/>\n",
              "    <path d=\"M18.56 5.44l.94 2.06.94-2.06 2.06-.94-2.06-.94-.94-2.06-.94 2.06-2.06.94zm-11 1L8.5 8.5l.94-2.06 2.06-.94-2.06-.94L8.5 2.5l-.94 2.06-2.06.94zm10 10l.94 2.06.94-2.06 2.06-.94-2.06-.94-.94-2.06-.94 2.06-2.06.94z\"/><path d=\"M17.41 7.96l-1.37-1.37c-.4-.4-.92-.59-1.43-.59-.52 0-1.04.2-1.43.59L10.3 9.45l-7.72 7.72c-.78.78-.78 2.05 0 2.83L4 21.41c.39.39.9.59 1.41.59.51 0 1.02-.2 1.41-.59l7.78-7.78 2.81-2.81c.8-.78.8-2.07 0-2.86zM5.41 20L4 18.59l7.72-7.72 1.47 1.35L5.41 20z\"/>\n",
              "  </svg>\n",
              "      </button>\n",
              "      \n",
              "  <style>\n",
              "    .colab-df-container {\n",
              "      display:flex;\n",
              "      flex-wrap:wrap;\n",
              "      gap: 12px;\n",
              "    }\n",
              "\n",
              "    .colab-df-convert {\n",
              "      background-color: #E8F0FE;\n",
              "      border: none;\n",
              "      border-radius: 50%;\n",
              "      cursor: pointer;\n",
              "      display: none;\n",
              "      fill: #1967D2;\n",
              "      height: 32px;\n",
              "      padding: 0 0 0 0;\n",
              "      width: 32px;\n",
              "    }\n",
              "\n",
              "    .colab-df-convert:hover {\n",
              "      background-color: #E2EBFA;\n",
              "      box-shadow: 0px 1px 2px rgba(60, 64, 67, 0.3), 0px 1px 3px 1px rgba(60, 64, 67, 0.15);\n",
              "      fill: #174EA6;\n",
              "    }\n",
              "\n",
              "    [theme=dark] .colab-df-convert {\n",
              "      background-color: #3B4455;\n",
              "      fill: #D2E3FC;\n",
              "    }\n",
              "\n",
              "    [theme=dark] .colab-df-convert:hover {\n",
              "      background-color: #434B5C;\n",
              "      box-shadow: 0px 1px 3px 1px rgba(0, 0, 0, 0.15);\n",
              "      filter: drop-shadow(0px 1px 2px rgba(0, 0, 0, 0.3));\n",
              "      fill: #FFFFFF;\n",
              "    }\n",
              "  </style>\n",
              "\n",
              "      <script>\n",
              "        const buttonEl =\n",
              "          document.querySelector('#df-ab7b85ff-8cef-4d48-be63-5e068f14ad07 button.colab-df-convert');\n",
              "        buttonEl.style.display =\n",
              "          google.colab.kernel.accessAllowed ? 'block' : 'none';\n",
              "\n",
              "        async function convertToInteractive(key) {\n",
              "          const element = document.querySelector('#df-ab7b85ff-8cef-4d48-be63-5e068f14ad07');\n",
              "          const dataTable =\n",
              "            await google.colab.kernel.invokeFunction('convertToInteractive',\n",
              "                                                     [key], {});\n",
              "          if (!dataTable) return;\n",
              "\n",
              "          const docLinkHtml = 'Like what you see? Visit the ' +\n",
              "            '<a target=\"_blank\" href=https://colab.research.google.com/notebooks/data_table.ipynb>data table notebook</a>'\n",
              "            + ' to learn more about interactive tables.';\n",
              "          element.innerHTML = '';\n",
              "          dataTable['output_type'] = 'display_data';\n",
              "          await google.colab.output.renderOutput(dataTable, element);\n",
              "          const docLink = document.createElement('div');\n",
              "          docLink.innerHTML = docLinkHtml;\n",
              "          element.appendChild(docLink);\n",
              "        }\n",
              "      </script>\n",
              "    </div>\n",
              "  </div>\n",
              "  "
            ],
            "text/plain": [
              "                                                      Text   Language\n",
              "1498643  el gospod predsednik predlagam da se s spoštov...  Slovenian\n",
              "1498644  ponovno moramo opozoriti na vprašanje zaščite ...  Slovenian\n",
              "1498645  obravnavajmo brezposelnost podzaposlenost in n...  Slovenian\n",
              "1498646  te agencije za zaposlovanje ravnajo z njimi ko...  Slovenian\n",
              "1498647                               kako ščitimo delavce  Slovenian"
            ]
          },
          "metadata": {},
          "execution_count": 37
        }
      ]
    },
    {
      "cell_type": "code",
      "metadata": {
        "id": "JusiyBG0ndoq",
        "colab": {
          "base_uri": "https://localhost:8080/"
        },
        "outputId": "26afa286-eb8f-43c8-da61-edb18f37a1a3"
      },
      "source": [
        "df['Language'].value_counts()"
      ],
      "execution_count": null,
      "outputs": [
        {
          "output_type": "execute_result",
          "data": {
            "text/plain": [
              "Latvian       99997\n",
              "Bulgarian     99996\n",
              "Slovenian     99990\n",
              "Hungarian     99982\n",
              "Romanian      99978\n",
              "English       99976\n",
              "Czech         99975\n",
              "Polish        99958\n",
              "Dutch         99879\n",
              "Finnish       99862\n",
              "Danish        99842\n",
              "German        99838\n",
              "French        99831\n",
              "Portuguese    99795\n",
              "Spanish       99749\n",
              "Name: Language, dtype: int64"
            ]
          },
          "metadata": {},
          "execution_count": 38
        }
      ]
    },
    {
      "cell_type": "code",
      "metadata": {
        "id": "lozX4v5nndoq",
        "colab": {
          "base_uri": "https://localhost:8080/",
          "height": 1000
        },
        "outputId": "19a06ce0-1f7a-4824-e328-c6761a57c85a"
      },
      "source": [
        "plt.figure(figsize=(20,20))\n",
        "sns.countplot(x = df['Language'], data=df)"
      ],
      "execution_count": null,
      "outputs": [
        {
          "output_type": "execute_result",
          "data": {
            "text/plain": [
              "<matplotlib.axes._subplots.AxesSubplot at 0x7fc43fe8d290>"
            ]
          },
          "metadata": {},
          "execution_count": 39
        },
        {
          "output_type": "display_data",
          "data": {
            "image/png": "[encoded data removed]",
            "text/plain": [
              "<Figure size 1440x1440 with 1 Axes>"
            ]
          },
          "metadata": {
            "needs_background": "light"
          }
        }
      ]
    },
    {
      "cell_type": "markdown",
      "metadata": {
        "id": "0kLNScrnndoq"
      },
      "source": [
        "### 5. Splitting the dataset\n",
        "\n",
        "* Splitting the dataset into Independent and Dependent variables"
      ]
    },
    {
      "cell_type": "code",
      "metadata": {
        "id": "H1dLRVBQndor"
      },
      "source": [
        "x = df.iloc[:,0] # Independent Variable\n",
        "y = df.iloc[:,1] # Dependent Variable"
      ],
      "execution_count": null,
      "outputs": []
    },
    {
      "cell_type": "code",
      "metadata": {
        "id": "-oObIMrfndor",
        "colab": {
          "base_uri": "https://localhost:8080/"
        },
        "outputId": "f386a0ac-db27-4759-d465-81fb9afa95d6"
      },
      "source": [
        "y.head()"
      ],
      "execution_count": null,
      "outputs": [
        {
          "output_type": "execute_result",
          "data": {
            "text/plain": [
              "0    English\n",
              "1    English\n",
              "2    English\n",
              "3    English\n",
              "4    English\n",
              "Name: Language, dtype: object"
            ]
          },
          "metadata": {},
          "execution_count": 41
        }
      ]
    },
    {
      "cell_type": "code",
      "metadata": {
        "id": "dQpHnwKUndor",
        "colab": {
          "base_uri": "https://localhost:8080/"
        },
        "outputId": "d6806a36-503f-4f99-b189-7e875165b9a6"
      },
      "source": [
        "x.head()"
      ],
      "execution_count": null,
      "outputs": [
        {
          "output_type": "execute_result",
          "data": {
            "text/plain": [
              "0                 membership of parliament see minutes\n",
              "1    approval of minutes of previous sitting see mi...\n",
              "2                 membership of parliament see minutes\n",
              "3              verification of credentials see minutes\n",
              "4                       documents received see minutes\n",
              "Name: Text, dtype: object"
            ]
          },
          "metadata": {},
          "execution_count": 42
        }
      ]
    },
    {
      "cell_type": "code",
      "metadata": {
        "id": "Sq44e9zbndor"
      },
      "source": [
        "from sklearn.model_selection import train_test_split\n",
        "\n",
        "x_train, x_test, y_train, y_test = train_test_split(x, y, test_size=0.2, random_state=42)"
      ],
      "execution_count": null,
      "outputs": []
    },
    {
      "cell_type": "markdown",
      "metadata": {
        "id": "F4Vrwsn_ndor"
      },
      "source": [
        "## Applying TF-IDF Vectorizer"
      ]
    },
    {
      "cell_type": "markdown",
      "metadata": {
        "id": "KFlBcfvJndor"
      },
      "source": [
        "* `ngram_range` : It collets one , one two, one two three words \n",
        "* `analyzer` : We are not going word by word here we are going character by character that why we have used **char**."
      ]
    },
    {
      "cell_type": "code",
      "metadata": {
        "id": "gUBYVaVgndor"
      },
      "source": [
        "vectorizer = feature_extraction.text.TfidfVectorizer(ngram_range=(1,3), analyzer='char')\n",
        "# x = vectorizer.fit_transform(df['Text'])"
      ],
      "execution_count": null,
      "outputs": []
    },
    {
      "cell_type": "code",
      "metadata": {
        "id": "jEI5Vtlyndos"
      },
      "source": [
        "pipe_mnb = pipeline.Pipeline([\n",
        "    ('vectorizer', vectorizer),\n",
        "    ('clf', MultinomialNB())\n",
        "])"
      ],
      "execution_count": null,
      "outputs": []
    },
    {
      "cell_type": "code",
      "metadata": {
        "id": "lIWi1-vEndos",
        "colab": {
          "base_uri": "https://localhost:8080/"
        },
        "outputId": "85c5e80b-501c-435b-df1b-ca764b51f66f"
      },
      "source": [
        "pipe_mnb.fit(x_train, y_train)"
      ],
      "execution_count": null,
      "outputs": [
        {
          "output_type": "execute_result",
          "data": {
            "text/plain": [
              "Pipeline(steps=[('vectorizer',\n",
              "                 TfidfVectorizer(analyzer='char', ngram_range=(1, 3))),\n",
              "                ('clf', MultinomialNB())])"
            ]
          },
          "metadata": {},
          "execution_count": 46
        }
      ]
    },
    {
      "cell_type": "code",
      "metadata": {
        "id": "uV6QSLIWndos"
      },
      "source": [
        "pipe_lr = pipeline.Pipeline([\n",
        "    ('vectorizer', vectorizer),\n",
        "    ('lr_clf', LogisticRegression())\n",
        "])"
      ],
      "execution_count": null,
      "outputs": []
    },
    {
      "cell_type": "code",
      "metadata": {
        "id": "JsDlDCKLndos",
        "colab": {
          "base_uri": "https://localhost:8080/"
        },
        "outputId": "c89fb2c2-fb1e-43b1-8b1f-cf4d8f3e7fc2"
      },
      "source": [
        "pipe_lr.fit(x_train, y_train)"
      ],
      "execution_count": null,
      "outputs": [
        {
          "output_type": "stream",
          "name": "stderr",
          "text": [
            "/usr/local/lib/python3.7/dist-packages/sklearn/linear_model/_logistic.py:818: ConvergenceWarning: lbfgs failed to converge (status=1):\n",
            "STOP: TOTAL NO. of ITERATIONS REACHED LIMIT.\n",
            "\n",
            "Increase the number of iterations (max_iter) or scale the data as shown in:\n",
            "    https://scikit-learn.org/stable/modules/preprocessing.html\n",
            "Please also refer to the documentation for alternative solver options:\n",
            "    https://scikit-learn.org/stable/modules/linear_model.html#logistic-regression\n",
            "  extra_warning_msg=_LOGISTIC_SOLVER_CONVERGENCE_MSG,\n"
          ]
        },
        {
          "output_type": "execute_result",
          "data": {
            "text/plain": [
              "Pipeline(steps=[('vectorizer',\n",
              "                 TfidfVectorizer(analyzer='char', ngram_range=(1, 3))),\n",
              "                ('lr_clf', LogisticRegression())])"
            ]
          },
          "metadata": {},
          "execution_count": 48
        }
      ]
    },
    {
      "cell_type": "markdown",
      "metadata": {
        "id": "nB3CZfF-ndos"
      },
      "source": [
        "## Model Prediction for Logistic Regression"
      ]
    },
    {
      "cell_type": "code",
      "metadata": {
        "id": "r-kpVRIjndos"
      },
      "source": [
        "lr_predicted = pipe_lr.predict(x_test)"
      ],
      "execution_count": null,
      "outputs": []
    },
    {
      "cell_type": "markdown",
      "metadata": {
        "id": "ZsY9WCO-ndos"
      },
      "source": [
        "## Model evaluation for Logistic Regression"
      ]
    },
    {
      "cell_type": "code",
      "metadata": {
        "id": "D5mqWalhndot",
        "colab": {
          "base_uri": "https://localhost:8080/"
        },
        "outputId": "2e31bd90-4464-42c4-c36d-a8fd821b7e62"
      },
      "source": [
        "lr_acc = (metrics.accuracy_score(y_test, lr_predicted))*100\n",
        "print('The logistic regression has:',lr_acc,'% accuracy')"
      ],
      "execution_count": null,
      "outputs": [
        {
          "output_type": "stream",
          "name": "stdout",
          "text": [
            "The logistic regression has: 99.13188536349381 % accuracy\n"
          ]
        }
      ]
    },
    {
      "cell_type": "markdown",
      "metadata": {
        "id": "Zlte0V3Gndot"
      },
      "source": [
        "## Model Prediction for MultinomialNB"
      ]
    },
    {
      "cell_type": "code",
      "metadata": {
        "id": "6nF1bpBlndot"
      },
      "source": [
        "mnb_predicted = pipe_mnb.predict(x_test)"
      ],
      "execution_count": null,
      "outputs": []
    },
    {
      "cell_type": "markdown",
      "metadata": {
        "id": "kP1jnkDHndot"
      },
      "source": [
        "## Model Evaluation for MultinomialNB"
      ]
    },
    {
      "cell_type": "code",
      "metadata": {
        "id": "rUrzTdvEndot",
        "colab": {
          "base_uri": "https://localhost:8080/"
        },
        "outputId": "3f7095a7-5652-4b34-ddc0-50bcc388db28"
      },
      "source": [
        "mnb_acc = (metrics.accuracy_score(y_test, mnb_predicted))*100\n",
        "print('The MultinomialNB has :',mnb_acc,'% accuracy')"
      ],
      "execution_count": null,
      "outputs": [
        {
          "output_type": "stream",
          "name": "stdout",
          "text": [
            "The MultinomialNB has : 99.01978447269208 % accuracy\n"
          ]
        }
      ]
    },
    {
      "cell_type": "markdown",
      "metadata": {
        "id": "7frJQNcPndot"
      },
      "source": [
        "## Evaluation matrix for Logistic Regression"
      ]
    },
    {
      "cell_type": "code",
      "metadata": {
        "id": "ijHBaVNnndot",
        "colab": {
          "base_uri": "https://localhost:8080/"
        },
        "outputId": "964fbbe3-6547-4c3a-ac7e-b9f09b52a821"
      },
      "source": [
        "matrix = metrics.confusion_matrix(y_test, lr_predicted)\n",
        "print('Confusion matrix: \\n', matrix)"
      ],
      "execution_count": null,
      "outputs": [
        {
          "output_type": "stream",
          "name": "stdout",
          "text": [
            "Confusion matrix: \n",
            " [[19599     3     0     2    33     0    24    17     0     2    12     3\n",
            "    313     9    19]\n",
            " [    8 19864     1     1    23     1    14     9     3     0     8     3\n",
            "    176    23    12]\n",
            " [    0     0 19977     5     8     2     1     3     3     2     3     2\n",
            "     23     4     2]\n",
            " [    0     0     1 19881    17     3     0     5     3     2     3     3\n",
            "     15     0     6]\n",
            " [    0     0     0     0 19410     1     5     1     0     1     2     5\n",
            "    260     4     5]\n",
            " [    0     0     1     0     1 19877     1     1     0     1     0     1\n",
            "     78     5     2]\n",
            " [    0     1     3     5     6     2 19681     3     6     0     3     2\n",
            "     27     3     6]\n",
            " [    0     0     4     5     4     4     2 20034     1     2     6     1\n",
            "     31     3     4]\n",
            " [    6     1     3     1    17     0     9     5 19739     1     5     2\n",
            "    160    12    15]\n",
            " [    6     2     0     0    14     0    12     4     1 19828     7     2\n",
            "    160    12    10]\n",
            " [    9     1     3     0    15     0     5     6     4     0 19908     4\n",
            "    170     6    12]\n",
            " [    0     4     2     1     4     0     2     3     2     0     0 19944\n",
            "     28     1    28]\n",
            " [   19     2     2     1    30     2    21     6     2     0     9     5\n",
            "  19794    13    15]\n",
            " [    4     0     1     0    15     3     7     5     2     1     9     5\n",
            "    193 20041    11]\n",
            " [    0     2     1     2     3     2     4     5     0     2     4    15\n",
            "     56     2 19551]]\n"
          ]
        }
      ]
    },
    {
      "cell_type": "code",
      "metadata": {
        "id": "R58YBa3Dndou"
      },
      "source": [
        "def plot_confusion_matrix(cm, classes,\n",
        "                          normalize=False,\n",
        "                          title='Actual labels',\n",
        "                          cmap=plt.cm.Blues):\n",
        "    \"\"\"\n",
        "    See full source and example: \n",
        "    http://scikit-learn.org/stable/auto_examples/model_selection/plot_confusion_matrix.html\n",
        "    \n",
        "    This function prints and plots the confusion matrix.\n",
        "    Normalization can be applied by setting `normalize=True`.\n",
        "    \"\"\"\n",
        "    plt.imshow(cm, interpolation='nearest', cmap=cmap)\n",
        "    plt.title(title)\n",
        "    plt.colorbar()\n",
        "    tick_marks = np.arange(len(classes))\n",
        "    plt.xticks(tick_marks, classes, rotation=45)\n",
        "    plt.yticks(tick_marks, classes)\n",
        "\n",
        "    if normalize:\n",
        "        cm = cm.astype('float') / cm.sum(axis=1)[:, np.newaxis]\n",
        "        print(\"Normalized confusion matrix\")\n",
        "    else:\n",
        "        print('Confusion matrix, without normalization')\n",
        "\n",
        "    thresh = cm.max() / 2.\n",
        "    for i, j in itertools.product(range(cm.shape[0]), range(cm.shape[1])):\n",
        "        plt.text(j, i, cm[i, j],\n",
        "                 horizontalalignment=\"center\",\n",
        "                 color=\"white\" if cm[i, j] > thresh else \"black\")\n",
        "\n",
        "    plt.tight_layout()\n",
        "    plt.ylabel('True label')\n",
        "    plt.xlabel('Predicted label')"
      ],
      "execution_count": null,
      "outputs": []
    },
    {
      "cell_type": "code",
      "metadata": {
        "id": "Cg5ciK5cndou",
        "colab": {
          "base_uri": "https://localhost:8080/",
          "height": 1000
        },
        "outputId": "cf54b60f-980d-4d40-9619-e2538ee3f0ae"
      },
      "source": [
        "plt.figure(figsize=(20,20))\n",
        "plot_confusion_matrix(matrix, classes = ['ENG', 'GER', 'FRA', 'ESP','BUL','CZ','DAN','FIN','HUN','LAT','DUTCH','POL','PRT','ROM','SLO'])"
      ],
      "execution_count": null,
      "outputs": [
        {
          "output_type": "stream",
          "name": "stdout",
          "text": [
            "Confusion matrix, without normalization\n"
          ]
        },
        {
          "output_type": "display_data",
          "data": {
            "image/png": "[encoded data removed]",
            "text/plain": [
              "<Figure size 1440x1440 with 2 Axes>"
            ]
          },
          "metadata": {
            "needs_background": "light"
          }
        }
      ]
    },
    {
      "cell_type": "code",
      "metadata": {
        "id": "qKe5Y0QZndou"
      },
      "source": [
        "import pickle"
      ],
      "execution_count": null,
      "outputs": []
    },
    {
      "cell_type": "code",
      "metadata": {
        "id": "0VickW5dndou"
      },
      "source": [
        "lrfile = open('/content/drive/MyDrive/LangDetect/lrmodel.pckl', 'wb')\n",
        "pickle.dump(pipe_lr, lrfile)\n",
        "lrfile.close()\n",
        "\n",
        "mnbfile = open('/content/drive/MyDrive/LangDetect/mnbmodel.pckl', 'wb')\n",
        "pickle.dump(pipe_mnb, mnbfile)\n",
        "mnbfile.close()"
      ],
      "execution_count": null,
      "outputs": []
    }
  ]
}